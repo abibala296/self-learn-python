{
  "nbformat": 4,
  "nbformat_minor": 0,
  "metadata": {
    "colab": {
      "provenance": []
    },
    "kernelspec": {
      "name": "python3",
      "display_name": "Python 3"
    },
    "language_info": {
      "name": "python"
    }
  },
  "cells": [
    {
      "cell_type": "code",
      "execution_count": null,
      "metadata": {
        "id": "ApHQ3nhWNZh4"
      },
      "outputs": [],
      "source": [
        "# variable & valued\n",
        "\n",
        "# variable = file name\n",
        "# value = data points\n",
        "\n",
        "# single $ multi-line commenting\n",
        "#data types - Integer\n",
        "#data types - Float\n",
        "#data types - Boolean\n",
        "# data types - String"
      ]
    },
    {
      "cell_type": "code",
      "source": [
        "a=10\n",
        "print(a)\n",
        "\n"
      ],
      "metadata": {
        "colab": {
          "base_uri": "https://localhost:8080/"
        },
        "id": "MXCGySxUOz0D",
        "outputId": "471436e7-1bee-490d-b6bf-86b23f817199"
      },
      "execution_count": 4,
      "outputs": [
        {
          "output_type": "stream",
          "name": "stdout",
          "text": [
            "10\n"
          ]
        }
      ]
    },
    {
      "cell_type": "markdown",
      "source": [
        "** To Run The Code**\n",
        "\n",
        " 1.Ctr + Enter= Excute a Block/Cell and remain in th same cell.\n",
        "\n",
        "2.Shift + Enter = Excute a Block/Cell and move on to the next cell."
      ],
      "metadata": {
        "id": "9iuLVuNbSM0H"
      }
    },
    {
      "cell_type": "code",
      "source": [
        "b=25"
      ],
      "metadata": {
        "id": "Z2-EpXq6QDe3"
      },
      "execution_count": 6,
      "outputs": []
    },
    {
      "cell_type": "markdown",
      "source": [
        "1. Variable should not be name after default keywords present in the python.\n",
        "2. It should be not start with number.\n",
        "3. variable can start with underscore _ ."
      ],
      "metadata": {
        "id": "XZkrCKmpRlB0"
      }
    },
    {
      "cell_type": "markdown",
      "source": [],
      "metadata": {
        "id": "zXlfgQzNSngO"
      }
    },
    {
      "cell_type": "code",
      "source": [
        "_abc='python'\n",
        "_abc"
      ],
      "metadata": {
        "colab": {
          "base_uri": "https://localhost:8080/",
          "height": 35
        },
        "id": "tMMEL6u6Rkqp",
        "outputId": "d3fd1ccf-784e-4832-8e92-f344dc1e8a8c"
      },
      "execution_count": 7,
      "outputs": [
        {
          "output_type": "execute_result",
          "data": {
            "text/plain": [
              "'python'"
            ],
            "application/vnd.google.colaboratory.intrinsic+json": {
              "type": "string"
            }
          },
          "metadata": {},
          "execution_count": 7
        }
      ]
    },
    {
      "cell_type": "code",
      "source": [
        "import keyword\n",
        "print(keyword.kwlist)\n"
      ],
      "metadata": {
        "colab": {
          "base_uri": "https://localhost:8080/"
        },
        "id": "yS-opi6oWeIp",
        "outputId": "baabc928-9400-4dd7-c2d0-9a2fb6c7050b"
      },
      "execution_count": 8,
      "outputs": [
        {
          "output_type": "stream",
          "name": "stdout",
          "text": [
            "['False', 'None', 'True', 'and', 'as', 'assert', 'async', 'await', 'break', 'class', 'continue', 'def', 'del', 'elif', 'else', 'except', 'finally', 'for', 'from', 'global', 'if', 'import', 'in', 'is', 'lambda', 'nonlocal', 'not', 'or', 'pass', 'raise', 'return', 'try', 'while', 'with', 'yield']\n"
          ]
        }
      ]
    },
    {
      "cell_type": "code",
      "source": [
        "len(keyword.kwlist)"
      ],
      "metadata": {
        "colab": {
          "base_uri": "https://localhost:8080/"
        },
        "id": "Jsx2rdo9dOlE",
        "outputId": "42bf930b-5dfd-4133-99eb-7355a3f6397f"
      },
      "execution_count": 9,
      "outputs": [
        {
          "output_type": "execute_result",
          "data": {
            "text/plain": [
              "35"
            ]
          },
          "metadata": {},
          "execution_count": 9
        }
      ]
    },
    {
      "cell_type": "markdown",
      "source": [
        "#Data types -Integer"
      ],
      "metadata": {
        "id": "V-xUjr-6hWJ0"
      }
    },
    {
      "cell_type": "code",
      "source": [
        "a=10\n",
        ""
      ],
      "metadata": {
        "id": "uQQxLeblhUbU"
      },
      "execution_count": 12,
      "outputs": []
    },
    {
      "cell_type": "code",
      "source": [
        "type(a)"
      ],
      "metadata": {
        "colab": {
          "base_uri": "https://localhost:8080/"
        },
        "id": "nR9y7BgAhwuE",
        "outputId": "7f9d0b2f-3ef5-4857-c76d-38ab9f04361b"
      },
      "execution_count": 14,
      "outputs": [
        {
          "output_type": "execute_result",
          "data": {
            "text/plain": [
              "int"
            ]
          },
          "metadata": {},
          "execution_count": 14
        }
      ]
    },
    {
      "cell_type": "code",
      "source": [
        "b,c=10,30\n",
        "print(b)\n",
        "print(c)"
      ],
      "metadata": {
        "colab": {
          "base_uri": "https://localhost:8080/"
        },
        "id": "nohaqeRXh0p3",
        "outputId": "00b0a833-7834-4ff4-d4da-768309e17718"
      },
      "execution_count": 16,
      "outputs": [
        {
          "output_type": "stream",
          "name": "stdout",
          "text": [
            "10\n",
            "30\n"
          ]
        }
      ]
    },
    {
      "cell_type": "markdown",
      "source": [
        "#Operation in **Integer**"
      ],
      "metadata": {
        "id": "aWdslQ45iKYy"
      }
    },
    {
      "cell_type": "code",
      "source": [
        " # fstring inside the f-string, you can include expressions (variables, calculations, etc.) enclosed in curly braces {}\n",
        "print(f'A is {a} | B is {b}\\n')\n",
        "print('addition',a+b)\n",
        "print('subtraction',a-b)\n",
        "print('multiplication',a*b)\n",
        "print('division',a/b)\n",
        "print('floor division',a//b)\n",
        "print('modulus',a%2)\n",
        "print('exponent',a**b)\n",
        "print('power',a**2)"
      ],
      "metadata": {
        "colab": {
          "base_uri": "https://localhost:8080/"
        },
        "id": "ZXfV8C3MiEGo",
        "outputId": "12d3d6ff-824e-486c-d417-8a0cd516a8e7"
      },
      "execution_count": 23,
      "outputs": [
        {
          "output_type": "stream",
          "name": "stdout",
          "text": [
            "A is 10 | B is 10\n",
            "\n",
            "addition 20\n",
            "subtraction 0\n",
            "multiplication 100\n",
            "division 1.0\n",
            "floor division 1\n",
            "modulus 0\n",
            "exponent 10000000000\n",
            "power 100\n"
          ]
        }
      ]
    },
    {
      "cell_type": "markdown",
      "source": [
        "#Data Types-Float"
      ],
      "metadata": {
        "id": "MyWs3TY1l3Dg"
      }
    },
    {
      "cell_type": "code",
      "source": [
        "a= 10.25\n",
        "print(a)"
      ],
      "metadata": {
        "colab": {
          "base_uri": "https://localhost:8080/"
        },
        "id": "nNjj8jEqmJ7D",
        "outputId": "177682a6-2e6f-4d32-ca2e-6ea075d1ddf8"
      },
      "execution_count": 24,
      "outputs": [
        {
          "output_type": "stream",
          "name": "stdout",
          "text": [
            "10.25\n"
          ]
        }
      ]
    },
    {
      "cell_type": "code",
      "source": [
        "type(a)"
      ],
      "metadata": {
        "colab": {
          "base_uri": "https://localhost:8080/"
        },
        "id": "zogy5I-qmeli",
        "outputId": "59536449-9708-41b8-8a81-cc58e5d98f51"
      },
      "execution_count": 25,
      "outputs": [
        {
          "output_type": "execute_result",
          "data": {
            "text/plain": [
              "float"
            ]
          },
          "metadata": {},
          "execution_count": 25
        }
      ]
    },
    {
      "cell_type": "code",
      "source": [
        "b=20.25\n",
        "b\n"
      ],
      "metadata": {
        "colab": {
          "base_uri": "https://localhost:8080/"
        },
        "id": "BHfzMpfZmgn0",
        "outputId": "9bc73c1a-fb46-4c36-e821-535cc4e9af9b"
      },
      "execution_count": 27,
      "outputs": [
        {
          "output_type": "execute_result",
          "data": {
            "text/plain": [
              "20.25"
            ]
          },
          "metadata": {},
          "execution_count": 27
        }
      ]
    },
    {
      "cell_type": "code",
      "source": [
        "type( b)"
      ],
      "metadata": {
        "colab": {
          "base_uri": "https://localhost:8080/"
        },
        "id": "F_WIbswZngok",
        "outputId": "4a3fa463-8cf9-4118-9fc9-a511a8e9795a"
      },
      "execution_count": 28,
      "outputs": [
        {
          "output_type": "execute_result",
          "data": {
            "text/plain": [
              "float"
            ]
          },
          "metadata": {},
          "execution_count": 28
        }
      ]
    },
    {
      "cell_type": "markdown",
      "source": [
        "#Operation in **Float**"
      ],
      "metadata": {
        "id": "n-xY36nVnqP4"
      }
    },
    {
      "cell_type": "code",
      "source": [
        "print(f'A is {a} | B is {b}\\n')\n",
        "print('addition',a+b)\n",
        "print('subtraction',a-b)\n",
        "print('multiplication',round(a*b,2))\n",
        "print('division',round(a/b,2))\n",
        "print('floor division',a//b)\n",
        "print('modulus',a%2)\n",
        "print('power',round(a**2,2))"
      ],
      "metadata": {
        "colab": {
          "base_uri": "https://localhost:8080/"
        },
        "id": "m2R7hZZWnkMd",
        "outputId": "ef2abe4b-12e3-43d5-dfc4-e76895286d75"
      },
      "execution_count": 37,
      "outputs": [
        {
          "output_type": "stream",
          "name": "stdout",
          "text": [
            "A is 10.25 | B is 20.25\n",
            "\n",
            "addition 30.5\n",
            "subtraction -10.0\n",
            "multiplication 207.56\n",
            "division 0.51\n",
            "floor division 0.0\n",
            "modulus 0.25\n",
            "power 105.06\n"
          ]
        }
      ]
    },
    {
      "cell_type": "markdown",
      "source": [
        "#*Boolean*"
      ],
      "metadata": {
        "id": "Ro2JfEI8qsC_"
      }
    },
    {
      "cell_type": "code",
      "source": [
        "a=True\n",
        "print(a)"
      ],
      "metadata": {
        "colab": {
          "base_uri": "https://localhost:8080/"
        },
        "id": "n6CXA2wurcVu",
        "outputId": "4aa28544-7364-46db-c0db-9470f34eb028"
      },
      "execution_count": 38,
      "outputs": [
        {
          "output_type": "stream",
          "name": "stdout",
          "text": [
            "True\n"
          ]
        }
      ]
    },
    {
      "cell_type": "code",
      "source": [
        "type(a)"
      ],
      "metadata": {
        "colab": {
          "base_uri": "https://localhost:8080/"
        },
        "id": "plBqbj8JrkIg",
        "outputId": "986ee968-db49-4747-963f-c58fa6285e0a"
      },
      "execution_count": 39,
      "outputs": [
        {
          "output_type": "execute_result",
          "data": {
            "text/plain": [
              "bool"
            ]
          },
          "metadata": {},
          "execution_count": 39
        }
      ]
    },
    {
      "cell_type": "code",
      "source": [
        "b=False\n",
        "print(b)"
      ],
      "metadata": {
        "colab": {
          "base_uri": "https://localhost:8080/"
        },
        "id": "F_5rJECxrmB8",
        "outputId": "e54d627b-cd5b-46ce-f4d0-4519b6982b8c"
      },
      "execution_count": 41,
      "outputs": [
        {
          "output_type": "stream",
          "name": "stdout",
          "text": [
            "False\n"
          ]
        }
      ]
    },
    {
      "cell_type": "code",
      "source": [
        "type(b)"
      ],
      "metadata": {
        "colab": {
          "base_uri": "https://localhost:8080/"
        },
        "id": "SqKZIzP8r4Tx",
        "outputId": "538759dc-fc67-4493-c5e1-99d4976a72be"
      },
      "execution_count": 42,
      "outputs": [
        {
          "output_type": "execute_result",
          "data": {
            "text/plain": [
              "bool"
            ]
          },
          "metadata": {},
          "execution_count": 42
        }
      ]
    },
    {
      "cell_type": "markdown",
      "source": [
        "#*Operation in Boolean*"
      ],
      "metadata": {
        "id": "hu6QV_uyuK0Z"
      }
    },
    {
      "cell_type": "code",
      "source": [
        "print(f'A is {a} | B is {b}\\n')\n",
        "print('AND Operation:',a and b)\n",
        "print('OR Operation:',a or b)\n",
        "print('NOT Operation:',not a)"
      ],
      "metadata": {
        "colab": {
          "base_uri": "https://localhost:8080/"
        },
        "id": "EJFTwabEsa6F",
        "outputId": "4332b140-7c04-43b1-d452-779fa7e9ec77"
      },
      "execution_count": 43,
      "outputs": [
        {
          "output_type": "stream",
          "name": "stdout",
          "text": [
            "A is True | B is False\n",
            "\n",
            "AND Operation: False\n",
            "OR Operation: True\n",
            "NOT Operation: False\n"
          ]
        }
      ]
    },
    {
      "cell_type": "code",
      "source": [
        "print('AND Operation:',a & b)\n",
        "print('OR Operation:',a | b)"
      ],
      "metadata": {
        "colab": {
          "base_uri": "https://localhost:8080/"
        },
        "id": "xDJJPSLCvRNB",
        "outputId": "41e42407-3045-4802-a735-9cff226d2b59"
      },
      "execution_count": 44,
      "outputs": [
        {
          "output_type": "stream",
          "name": "stdout",
          "text": [
            "AND Operation: False\n",
            "OR Operation: True\n"
          ]
        }
      ]
    },
    {
      "cell_type": "markdown",
      "source": [
        "#*Data Types-String*"
      ],
      "metadata": {
        "id": "C_agdY7QvdqM"
      }
    },
    {
      "cell_type": "code",
      "source": [
        "z='bala is a Data Engineer'\n",
        "print(z)\n",
        "type(z)\n"
      ],
      "metadata": {
        "colab": {
          "base_uri": "https://localhost:8080/"
        },
        "id": "B9l0wxIyvUez",
        "outputId": "21d71442-ecd1-473f-805f-ce1b43a10735"
      },
      "execution_count": 52,
      "outputs": [
        {
          "output_type": "stream",
          "name": "stdout",
          "text": [
            "bala is a Data Engineer\n"
          ]
        },
        {
          "output_type": "execute_result",
          "data": {
            "text/plain": [
              "str"
            ]
          },
          "metadata": {},
          "execution_count": 52
        }
      ]
    },
    {
      "cell_type": "markdown",
      "source": [
        "#*Operation in strings*"
      ],
      "metadata": {
        "id": "vupwXTm6xfs8"
      }
    },
    {
      "cell_type": "code",
      "source": [
        "print('no of character in the string:',len (z))"
      ],
      "metadata": {
        "colab": {
          "base_uri": "https://localhost:8080/"
        },
        "id": "amsRlbe4xSHA",
        "outputId": "25db3cda-3f7c-4020-e657-ac155501d887"
      },
      "execution_count": 51,
      "outputs": [
        {
          "output_type": "stream",
          "name": "stdout",
          "text": [
            "no of character in the string: 23\n"
          ]
        }
      ]
    },
    {
      "cell_type": "code",
      "source": [],
      "metadata": {
        "id": "Bmn3dSf-yC-s"
      },
      "execution_count": null,
      "outputs": []
    }
  ]
}